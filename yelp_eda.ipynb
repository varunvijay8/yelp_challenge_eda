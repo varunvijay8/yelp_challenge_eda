{
 "cells": [
  {
   "cell_type": "code",
   "execution_count": 1,
   "metadata": {},
   "outputs": [],
   "source": [
    "import pyspark\n",
    "import pandas as pd"
   ]
  },
  {
   "cell_type": "code",
   "execution_count": 2,
   "metadata": {
    "scrolled": true
   },
   "outputs": [
    {
     "name": "stdout",
     "output_type": "stream",
     "text": [
      "Collecting package metadata: done\n",
      "Solving environment: done\n",
      "\n",
      "\n",
      "==> WARNING: A newer version of conda exists. <==\n",
      "  current version: 4.6.8\n",
      "  latest version: 4.6.14\n",
      "\n",
      "Please update conda by running\n",
      "\n",
      "    $ conda update -n base -c defaults conda\n",
      "\n",
      "\n",
      "\n",
      "## Package Plan ##\n",
      "\n",
      "  environment location: /home/varun/anaconda3/envs/tensorflow1\n",
      "\n",
      "  added / updated specs:\n",
      "    - matplotlib\n",
      "\n",
      "\n",
      "The following packages will be downloaded:\n",
      "\n",
      "    package                    |            build\n",
      "    ---------------------------|-----------------\n",
      "    cycler-0.10.0              |             py_1           8 KB  conda-forge\n",
      "    kiwisolver-1.1.0           |   py36hc9558a2_0          86 KB  conda-forge\n",
      "    matplotlib-3.0.3           |           py36_1           6 KB  conda-forge\n",
      "    matplotlib-base-3.0.3      |   py36h5f35d83_1         6.7 MB  conda-forge\n",
      "    pyparsing-2.4.0            |             py_0          55 KB  conda-forge\n",
      "    tk-8.6.9                   |    h84994c4_1001         3.2 MB  conda-forge\n",
      "    ------------------------------------------------------------\n",
      "                                           Total:        10.0 MB\n",
      "\n",
      "The following NEW packages will be INSTALLED:\n",
      "\n",
      "  cycler             conda-forge/noarch::cycler-0.10.0-py_1\n",
      "  kiwisolver         conda-forge/linux-64::kiwisolver-1.1.0-py36hc9558a2_0\n",
      "  matplotlib         conda-forge/linux-64::matplotlib-3.0.3-py36_1\n",
      "  matplotlib-base    conda-forge/linux-64::matplotlib-base-3.0.3-py36h5f35d83_1\n",
      "  pyparsing          conda-forge/noarch::pyparsing-2.4.0-py_0\n",
      "\n",
      "The following packages will be UPDATED:\n",
      "\n",
      "  tk                         pkgs/main::tk-8.6.8-hbc83047_0 --> conda-forge::tk-8.6.9-h84994c4_1001\n",
      "\n",
      "\n",
      "\n",
      "Downloading and Extracting Packages\n",
      "tk-8.6.9             | 3.2 MB    | ##################################### | 100% \n",
      "matplotlib-3.0.3     | 6 KB      | ##################################### | 100% \n",
      "kiwisolver-1.1.0     | 86 KB     | ##################################### | 100% \n",
      "matplotlib-base-3.0. | 6.7 MB    | ##################################### | 100% \n",
      "cycler-0.10.0        | 8 KB      | ##################################### | 100% \n",
      "pyparsing-2.4.0      | 55 KB     | ##################################### | 100% \n",
      "Preparing transaction: done\n",
      "Verifying transaction: done\n",
      "Executing transaction: done\n"
     ]
    }
   ],
   "source": [
    "!conda install -y -c conda-forge matplotlib\n",
    "import matplotlib.pyplot as plt"
   ]
  },
  {
   "cell_type": "code",
   "execution_count": 3,
   "metadata": {},
   "outputs": [],
   "source": [
    "import glob\n",
    "import os"
   ]
  },
  {
   "cell_type": "code",
   "execution_count": 4,
   "metadata": {},
   "outputs": [],
   "source": [
    "from pyspark.sql.functions import col\n",
    "from pyspark.sql.functions import sum as spark_sum\n",
    "from pyspark.sql.functions import regexp_extract\n",
    "from pyspark.sql.functions import udf"
   ]
  },
  {
   "cell_type": "code",
   "execution_count": 48,
   "metadata": {},
   "outputs": [],
   "source": [
    "import json"
   ]
  },
  {
   "cell_type": "markdown",
   "metadata": {},
   "source": [
    "# Paths"
   ]
  },
  {
   "cell_type": "code",
   "execution_count": 8,
   "metadata": {},
   "outputs": [],
   "source": [
    "path = r\"/home/varun/Downloads/yelp_dataset/\"\n",
    "review_file = r\"review.json\"\n",
    "user_file = r\"user.json\"\n",
    "business_file = r\"business.json\"\n",
    "tip_file = r\"tip.json\"\n",
    "checkin_file = r\"checkin.json\""
   ]
  },
  {
   "cell_type": "code",
   "execution_count": null,
   "metadata": {},
   "outputs": [],
   "source": []
  },
  {
   "cell_type": "markdown",
   "metadata": {},
   "source": [
    "# Spark Session"
   ]
  },
  {
   "cell_type": "code",
   "execution_count": 11,
   "metadata": {},
   "outputs": [
    {
     "data": {
      "text/html": [
       "\n",
       "            <div>\n",
       "                <p><b>SparkSession - in-memory</b></p>\n",
       "                \n",
       "        <div>\n",
       "            <p><b>SparkContext</b></p>\n",
       "\n",
       "            <p><a href=\"http://10.0.2.15:4040\">Spark UI</a></p>\n",
       "\n",
       "            <dl>\n",
       "              <dt>Version</dt>\n",
       "                <dd><code>v2.4.2</code></dd>\n",
       "              <dt>Master</dt>\n",
       "                <dd><code>local[*]</code></dd>\n",
       "              <dt>AppName</dt>\n",
       "                <dd><code>yelp_eda</code></dd>\n",
       "            </dl>\n",
       "        </div>\n",
       "        \n",
       "            </div>\n",
       "        "
      ],
      "text/plain": [
       "<pyspark.sql.session.SparkSession at 0x7ffad4ff5e10>"
      ]
     },
     "execution_count": 11,
     "metadata": {},
     "output_type": "execute_result"
    }
   ],
   "source": [
    "spark = pyspark.sql.SparkSession.builder.appName('yelp_eda').getOrCreate()\n",
    "spark"
   ]
  },
  {
   "cell_type": "code",
   "execution_count": null,
   "metadata": {},
   "outputs": [],
   "source": []
  },
  {
   "cell_type": "markdown",
   "metadata": {},
   "source": [
    "# Review DF"
   ]
  },
  {
   "cell_type": "code",
   "execution_count": 12,
   "metadata": {},
   "outputs": [],
   "source": [
    "review_df = spark.read.format('json').option(\"inferSchema\", True).load(path+review_file)"
   ]
  },
  {
   "cell_type": "code",
   "execution_count": 23,
   "metadata": {},
   "outputs": [
    {
     "name": "stdout",
     "output_type": "stream",
     "text": [
      "root\n",
      " |-- business_id: string (nullable = true)\n",
      " |-- cool: long (nullable = true)\n",
      " |-- date: string (nullable = true)\n",
      " |-- funny: long (nullable = true)\n",
      " |-- review_id: string (nullable = true)\n",
      " |-- stars: double (nullable = true)\n",
      " |-- text: string (nullable = true)\n",
      " |-- useful: long (nullable = true)\n",
      " |-- user_id: string (nullable = true)\n",
      "\n"
     ]
    }
   ],
   "source": [
    "review_df.printSchema()"
   ]
  },
  {
   "cell_type": "code",
   "execution_count": 46,
   "metadata": {},
   "outputs": [],
   "source": [
    "review_top_100_business_df = review_df.groupBy('business_id').count().sort(col('count').desc()).limit(100)"
   ]
  },
  {
   "cell_type": "code",
   "execution_count": 47,
   "metadata": {},
   "outputs": [
    {
     "name": "stdout",
     "output_type": "stream",
     "text": [
      "+----------------------+-----+\n",
      "|business_id           |count|\n",
      "+----------------------+-----+\n",
      "|4JNXUYY8wbaaDmk3BPzlWw|8570 |\n",
      "|RESDUcs7fIiihp38-d6_6g|8568 |\n",
      "|K7lWdNUhCbcnEvI0NhGewg|6887 |\n",
      "|f4x1YBxkLrZg652xt2KR5g|5847 |\n",
      "|cYwJA2A6I12KNkm2rtXd5g|5575 |\n",
      "|DkYS3arLOhA8si5uUEmHOw|5206 |\n",
      "|2weQS-RnoOBhb1KsHKyoSQ|4534 |\n",
      "|5LNZ67Yw9RD6nf4_UhXOjw|4522 |\n",
      "|iCQpiavjjPzJ5_3gPD5Ebg|4351 |\n",
      "|SMPbvZLSMMb7KU76YNYMGg|4350 |\n",
      "+----------------------+-----+\n",
      "only showing top 10 rows\n",
      "\n"
     ]
    }
   ],
   "source": [
    "review_top_100_business_df.show(10,truncate=False)"
   ]
  },
  {
   "cell_type": "code",
   "execution_count": 36,
   "metadata": {
    "scrolled": false
   },
   "outputs": [
    {
     "name": "stdout",
     "output_type": "stream",
     "text": [
      "root\n",
      " |-- business_id: string (nullable = true)\n",
      " |-- count: long (nullable = false)\n",
      "\n"
     ]
    }
   ],
   "source": [
    "review_top_100_business_df.printSchema()"
   ]
  },
  {
   "cell_type": "code",
   "execution_count": 51,
   "metadata": {},
   "outputs": [],
   "source": [
    "top_100_business_lst = [row.business_id for row in review_top_100_business_df.select('business_id').collect()]"
   ]
  },
  {
   "cell_type": "code",
   "execution_count": 52,
   "metadata": {},
   "outputs": [
    {
     "data": {
      "text/plain": [
       "['4JNXUYY8wbaaDmk3BPzlWw',\n",
       " 'RESDUcs7fIiihp38-d6_6g',\n",
       " 'K7lWdNUhCbcnEvI0NhGewg',\n",
       " 'f4x1YBxkLrZg652xt2KR5g',\n",
       " 'cYwJA2A6I12KNkm2rtXd5g',\n",
       " 'DkYS3arLOhA8si5uUEmHOw',\n",
       " '2weQS-RnoOBhb1KsHKyoSQ',\n",
       " '5LNZ67Yw9RD6nf4_UhXOjw',\n",
       " 'iCQpiavjjPzJ5_3gPD5Ebg',\n",
       " 'SMPbvZLSMMb7KU76YNYMGg',\n",
       " 'ujHiaprwCQ5ewziu0Vi9rw',\n",
       " 'AV6weBrZFFBfRGCbcRGO4g',\n",
       " 'KskYqH1Bi7Z_61pH6Om8pg',\n",
       " 'El4FC8jcawUVgw_0EIcbaQ',\n",
       " 'rcaPajgKOJC2vo_l3xa42A',\n",
       " 'eoHdUeQDNgQ6WYEnP2aiRw',\n",
       " 'FaHADZARwnY4yvlvpnsfGA',\n",
       " 'faPVqws-x-5k2CQKDNtHxw',\n",
       " 'OETh78qcgDltvHULowwhJg',\n",
       " 'Wxxvi3LZbHNIDwJ-ZimtnA',\n",
       " 'u_vPjx925UPEG9DFOAAvFQ',\n",
       " 'hihud--QRriCYZw1zZvW4g',\n",
       " '7sPNbCx7vGAaH7SbNPZ6oA',\n",
       " 'g8OnV26ywJlZpezdBnOWUQ',\n",
       " '3kdSl5mo9dWC4clrQjEDGg',\n",
       " 'XZbuPXdyA0ZtTu3AzqtQhg',\n",
       " 'XXW_OFaYQkkGOGniujZFHg',\n",
       " 'YJ8ljUhLsz6CtT_2ORNFmg',\n",
       " 'na4Th5DrNauOv-c43QQFvA',\n",
       " 'HhVmDybpU7L50Kb5A0jXTg',\n",
       " 'RwMLuOkImBIqqYj4SSKSPg',\n",
       " 'P7pxQFqr7yBKMMI2J51udw',\n",
       " 'MpmFFw0GE_2iRFPdsRpJbA',\n",
       " 'eAc9Vd6loOgRQolMXQt6FA',\n",
       " 'yfxDa8RFOvJPQh0rNtakHA',\n",
       " 'BLIJ-p5wYuAhw6Pp6mh6mw',\n",
       " 'o7AiTlyWUrBSzdz6oMHj5w',\n",
       " 'G-5kEa6E6PD5fkBRuA7k9Q',\n",
       " 'fL-b760btOaGa85OJ9ut3w',\n",
       " 'VyjyHoBg3KC5BSFRlD0ZPQ',\n",
       " 'QJatAcxYgK1Zp9BRZMAx7g',\n",
       " 't-o_Sraneime4DDhWrQRBA',\n",
       " 'NvKNe9DnQavC9GstglcBJQ',\n",
       " 'JDZ6_yycNQFTpUZzLIKHUg',\n",
       " '5iSmZO0SrKU6EoXK_1M8Kw',\n",
       " 'UPIYuRaZvknINOd1w8kqRQ',\n",
       " 'VyVIneSU7XAWgMBllI6LnQ',\n",
       " '6Q7-wkCPc1KF75jZLOTcMw',\n",
       " 'Cni2l-VKG_pdospJ6xliXQ',\n",
       " 'WYw3Uf56DT5IwpaLNnCH5Q',\n",
       " 'JmI9nslLD7KZqRr__Bg6NQ',\n",
       " 'mDR12Hafvr84ctpsV6YLag',\n",
       " 'xtYiHTmunjfCN2sUaQxBjA',\n",
       " 'igHYkXZMLAc9UdV5VnR_AA',\n",
       " 'uGupeWqih0yIcCg8anM1PA',\n",
       " 'ii8sAGBexBOJoYRFafF9XQ',\n",
       " 'uanCi4OGc1mHLGl_AT4JhQ',\n",
       " 'awI4hHMfa7H0Xf0-ChU5hg',\n",
       " 'I6EDDi4-Eq_XlFghcDCUhw',\n",
       " 'JpgVl3d20CMRNjf1DVnzGA',\n",
       " 'QXV3L_QFGj8r6nWX2kS2hA',\n",
       " 'pH0BLkL4cbxKzu471VZnuA',\n",
       " 'ZkGDCVKSdf8m76cnnalL-A',\n",
       " 'IWN2heYitkg-D4UdqfxcMA',\n",
       " 'LR0qF0FEVsCOhYWUOiH26A',\n",
       " 'WUq8HJHIZU4uteB154XN7w',\n",
       " '0W4lkclzZThpx3V65bVgig',\n",
       " 'eEnNw3_hBvxcFHyr23kAuA',\n",
       " 'LNGBEEelQx4zbfWnlc66cw',\n",
       " 'DfgZlNgKwBvCpA_0alumXw',\n",
       " 'pSQFynH1VxkfSmehRXlZWw',\n",
       " 'xkVMIk_Vqh17f48ZQ_6b0w',\n",
       " 'EAwh1OmG6t6p3nRaZOW_AA',\n",
       " 'l_GV0hgEoTUf70uJVT0_hg',\n",
       " '3BCsAgo_1i4xMuTyLKMLRQ',\n",
       " 'JzOp695tclcNCNMuBl7oxA',\n",
       " 'ECOkEVUodMLUxvI0PMI4gQ',\n",
       " '3GEEy7RP6e4bT4LAiWFMFQ',\n",
       " 'r_BrIgzYcwo1NAuG9dLbpg',\n",
       " '3l54GTr8-E3XPbIxnF_sAA',\n",
       " 'qjnJFZtsY_nfRzoL3J_UWQ',\n",
       " 'OgJ0KxwJcJ9R5bUK0ixCbg',\n",
       " '0FUtlsQrJI7LhqDPxLumEw',\n",
       " '2iTsRqUsPGRH1li1WVRvKQ',\n",
       " 'vHz2RLtfUMVRPFmd7VBEHA',\n",
       " 'ByFMv3p5X1aNeZhU61rDcA',\n",
       " '9SU7ZZhaFUJJ6m2k5HKHeg',\n",
       " 'BIBWGO_r_1znnlmLbp4Nxg',\n",
       " 'eLFfWcdb7VkqNyTONksHiQ',\n",
       " 'frCxZS7lPhEnQRJ3UY6m7A',\n",
       " 'yNPh5SO-7wr8HPpVCDPbXQ',\n",
       " '9a3DrZvpYxVs3k_qwlCNSw',\n",
       " 'mz9ltimeAIy2c2qf5ctljw',\n",
       " '6Ct57qgmXwOnzfSZoUGh0Q',\n",
       " 'Xg5qEQiB-7L6kGJ5F4K3bQ',\n",
       " 'Az_60nNuh1FH8Ds8oasZjw',\n",
       " 'ugLqbAvBdRDc-gS4hpslXw',\n",
       " 'K-uQkfSUTwu5LIwPB4b_vg',\n",
       " 'JyxHvtj-syke7m9rbza7mA',\n",
       " 'Fi-2ruy5x600SX4avnrFuA']"
      ]
     },
     "execution_count": 52,
     "metadata": {},
     "output_type": "execute_result"
    }
   ],
   "source": [
    "top_100_business_lst"
   ]
  },
  {
   "cell_type": "code",
   "execution_count": 54,
   "metadata": {},
   "outputs": [],
   "source": [
    "review_top_business_df = review_df.filter(review_df.business_id == top_100_business_lst[0]).select('*')"
   ]
  },
  {
   "cell_type": "code",
   "execution_count": 55,
   "metadata": {},
   "outputs": [
    {
     "data": {
      "text/plain": [
       "8570"
      ]
     },
     "execution_count": 55,
     "metadata": {},
     "output_type": "execute_result"
    }
   ],
   "source": [
    "review_top_business_df.count()"
   ]
  },
  {
   "cell_type": "code",
   "execution_count": null,
   "metadata": {},
   "outputs": [],
   "source": []
  },
  {
   "cell_type": "markdown",
   "metadata": {},
   "source": [
    "# Join review with business df"
   ]
  },
  {
   "cell_type": "code",
   "execution_count": 24,
   "metadata": {},
   "outputs": [],
   "source": [
    "business_df = spark.read.format('json').option(\"inferSchema\", True).load(path+business_file)"
   ]
  },
  {
   "cell_type": "code",
   "execution_count": 26,
   "metadata": {},
   "outputs": [
    {
     "data": {
      "text/plain": [
       "192609"
      ]
     },
     "execution_count": 26,
     "metadata": {},
     "output_type": "execute_result"
    }
   ],
   "source": [
    "business_df.count()"
   ]
  },
  {
   "cell_type": "code",
   "execution_count": 27,
   "metadata": {},
   "outputs": [
    {
     "name": "stdout",
     "output_type": "stream",
     "text": [
      "root\n",
      " |-- address: string (nullable = true)\n",
      " |-- attributes: struct (nullable = true)\n",
      " |    |-- AcceptsInsurance: string (nullable = true)\n",
      " |    |-- AgesAllowed: string (nullable = true)\n",
      " |    |-- Alcohol: string (nullable = true)\n",
      " |    |-- Ambience: string (nullable = true)\n",
      " |    |-- BYOB: string (nullable = true)\n",
      " |    |-- BYOBCorkage: string (nullable = true)\n",
      " |    |-- BestNights: string (nullable = true)\n",
      " |    |-- BikeParking: string (nullable = true)\n",
      " |    |-- BusinessAcceptsBitcoin: string (nullable = true)\n",
      " |    |-- BusinessAcceptsCreditCards: string (nullable = true)\n",
      " |    |-- BusinessParking: string (nullable = true)\n",
      " |    |-- ByAppointmentOnly: string (nullable = true)\n",
      " |    |-- Caters: string (nullable = true)\n",
      " |    |-- CoatCheck: string (nullable = true)\n",
      " |    |-- Corkage: string (nullable = true)\n",
      " |    |-- DietaryRestrictions: string (nullable = true)\n",
      " |    |-- DogsAllowed: string (nullable = true)\n",
      " |    |-- DriveThru: string (nullable = true)\n",
      " |    |-- GoodForDancing: string (nullable = true)\n",
      " |    |-- GoodForKids: string (nullable = true)\n",
      " |    |-- GoodForMeal: string (nullable = true)\n",
      " |    |-- HairSpecializesIn: string (nullable = true)\n",
      " |    |-- HappyHour: string (nullable = true)\n",
      " |    |-- HasTV: string (nullable = true)\n",
      " |    |-- Music: string (nullable = true)\n",
      " |    |-- NoiseLevel: string (nullable = true)\n",
      " |    |-- Open24Hours: string (nullable = true)\n",
      " |    |-- OutdoorSeating: string (nullable = true)\n",
      " |    |-- RestaurantsAttire: string (nullable = true)\n",
      " |    |-- RestaurantsCounterService: string (nullable = true)\n",
      " |    |-- RestaurantsDelivery: string (nullable = true)\n",
      " |    |-- RestaurantsGoodForGroups: string (nullable = true)\n",
      " |    |-- RestaurantsPriceRange2: string (nullable = true)\n",
      " |    |-- RestaurantsReservations: string (nullable = true)\n",
      " |    |-- RestaurantsTableService: string (nullable = true)\n",
      " |    |-- RestaurantsTakeOut: string (nullable = true)\n",
      " |    |-- Smoking: string (nullable = true)\n",
      " |    |-- WheelchairAccessible: string (nullable = true)\n",
      " |    |-- WiFi: string (nullable = true)\n",
      " |-- business_id: string (nullable = true)\n",
      " |-- categories: string (nullable = true)\n",
      " |-- city: string (nullable = true)\n",
      " |-- hours: struct (nullable = true)\n",
      " |    |-- Friday: string (nullable = true)\n",
      " |    |-- Monday: string (nullable = true)\n",
      " |    |-- Saturday: string (nullable = true)\n",
      " |    |-- Sunday: string (nullable = true)\n",
      " |    |-- Thursday: string (nullable = true)\n",
      " |    |-- Tuesday: string (nullable = true)\n",
      " |    |-- Wednesday: string (nullable = true)\n",
      " |-- is_open: long (nullable = true)\n",
      " |-- latitude: double (nullable = true)\n",
      " |-- longitude: double (nullable = true)\n",
      " |-- name: string (nullable = true)\n",
      " |-- postal_code: string (nullable = true)\n",
      " |-- review_count: long (nullable = true)\n",
      " |-- stars: double (nullable = true)\n",
      " |-- state: string (nullable = true)\n",
      "\n"
     ]
    }
   ],
   "source": [
    "business_df.printSchema()"
   ]
  },
  {
   "cell_type": "code",
   "execution_count": 57,
   "metadata": {},
   "outputs": [],
   "source": [
    "top_business_df = business_df.filter(business_df.business_id == top_100_business_lst[0]).select('*')"
   ]
  },
  {
   "cell_type": "code",
   "execution_count": 59,
   "metadata": {},
   "outputs": [
    {
     "data": {
      "text/html": [
       "<div>\n",
       "<table border=\"1\" class=\"dataframe\">\n",
       "  <thead>\n",
       "    <tr style=\"text-align: right;\">\n",
       "      <th></th>\n",
       "      <th>address</th>\n",
       "      <th>attributes</th>\n",
       "      <th>business_id</th>\n",
       "      <th>categories</th>\n",
       "      <th>city</th>\n",
       "      <th>hours</th>\n",
       "      <th>is_open</th>\n",
       "      <th>latitude</th>\n",
       "      <th>longitude</th>\n",
       "      <th>name</th>\n",
       "      <th>postal_code</th>\n",
       "      <th>review_count</th>\n",
       "      <th>stars</th>\n",
       "      <th>state</th>\n",
       "    </tr>\n",
       "  </thead>\n",
       "  <tbody>\n",
       "    <tr>\n",
       "      <th>0</th>\n",
       "      <td>3655 Las Vegas Blvd S</td>\n",
       "      <td>(None, None, 'full_bar', {'romantic': True, 'i...</td>\n",
       "      <td>4JNXUYY8wbaaDmk3BPzlWw</td>\n",
       "      <td>Food, French, Breakfast &amp; Brunch, Restaurants,...</td>\n",
       "      <td>Las Vegas</td>\n",
       "      <td>(7:0-0:0, 7:0-23:0, 7:0-0:0, 7:0-23:0, 7:0-23:...</td>\n",
       "      <td>1</td>\n",
       "      <td>36.112859</td>\n",
       "      <td>-115.172434</td>\n",
       "      <td>Mon Ami Gabi</td>\n",
       "      <td>89109</td>\n",
       "      <td>8348</td>\n",
       "      <td>4.0</td>\n",
       "      <td>NV</td>\n",
       "    </tr>\n",
       "  </tbody>\n",
       "</table>\n",
       "</div>"
      ],
      "text/plain": [
       "                 address                                         attributes  \\\n",
       "0  3655 Las Vegas Blvd S  (None, None, 'full_bar', {'romantic': True, 'i...   \n",
       "\n",
       "              business_id                                         categories  \\\n",
       "0  4JNXUYY8wbaaDmk3BPzlWw  Food, French, Breakfast & Brunch, Restaurants,...   \n",
       "\n",
       "        city                                              hours  is_open  \\\n",
       "0  Las Vegas  (7:0-0:0, 7:0-23:0, 7:0-0:0, 7:0-23:0, 7:0-23:...        1   \n",
       "\n",
       "    latitude   longitude          name postal_code  review_count  stars state  \n",
       "0  36.112859 -115.172434  Mon Ami Gabi       89109          8348    4.0    NV  "
      ]
     },
     "execution_count": 59,
     "metadata": {},
     "output_type": "execute_result"
    }
   ],
   "source": [
    "top_business_df.toPandas()"
   ]
  },
  {
   "cell_type": "code",
   "execution_count": null,
   "metadata": {},
   "outputs": [],
   "source": []
  },
  {
   "cell_type": "code",
   "execution_count": null,
   "metadata": {},
   "outputs": [],
   "source": []
  }
 ],
 "metadata": {
  "kernelspec": {
   "display_name": "Python 3",
   "language": "python",
   "name": "python3"
  },
  "language_info": {
   "codemirror_mode": {
    "name": "ipython",
    "version": 3
   },
   "file_extension": ".py",
   "mimetype": "text/x-python",
   "name": "python",
   "nbconvert_exporter": "python",
   "pygments_lexer": "ipython3",
   "version": "3.6.8"
  }
 },
 "nbformat": 4,
 "nbformat_minor": 2
}
